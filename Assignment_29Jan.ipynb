{
  "nbformat": 4,
  "nbformat_minor": 0,
  "metadata": {
    "colab": {
      "provenance": []
    },
    "kernelspec": {
      "name": "python3",
      "display_name": "Python 3"
    },
    "language_info": {
      "name": "python"
    }
  },
  "cells": [
    {
      "cell_type": "markdown",
      "source": [
        "#####Q1.\n",
        "#####Ans:\n",
        "##### Guido Van Rossum developed python programming language in Feb-20-1991.\n"
      ],
      "metadata": {
        "id": "D-kziFNjgaok"
      }
    },
    {
      "cell_type": "markdown",
      "source": [
        "#####Q2.\n",
        "#####Ans:\n",
        "##### Types of programming that python support are: Object Oriented Programming and Structured Programming."
      ],
      "metadata": {
        "id": "RQo7E2Wyh1fB"
      }
    },
    {
      "cell_type": "markdown",
      "source": [
        "#####Q3.\n",
        "#####Ans:\n",
        "##### Yes python is case sensitive language. Python treats uppercase and lowercase characters differently. this applies to identifiers.\n",
        "##### Ex: (1)S='pwskills'  (2)s='hello' both are different."
      ],
      "metadata": {
        "id": "hjO4cvQPiwjl"
      }
    },
    {
      "cell_type": "markdown",
      "source": [
        "#####Q4.\n",
        "#####Ans:\n",
        "##### .Py is a extensionof python file."
      ],
      "metadata": {
        "id": "jR7mfT_5jybs"
      }
    },
    {
      "cell_type": "markdown",
      "source": [
        "#####Q5.\n",
        "#####Ans:\n",
        "##### Python is a interpreted language. When we run a python code, it is first compiled and then interpreted line by line. The compilation part is mostly hidden from the user while running coode , python generates a byte code internally, this byte code is then converted using python virtual machine to generate the output."
      ],
      "metadata": {
        "id": "BgYljv5_kNbj"
      }
    },
    {
      "cell_type": "markdown",
      "source": [
        "#####Q6.\n",
        "#####Ans:\n",
        "##### A block is a piece of python program text that is executed as a unit. Identation is used to define a block of code in python.  in python, indentation is done with whitespace."
      ],
      "metadata": {
        "id": "now7OTuamAHJ"
      }
    },
    {
      "cell_type": "code",
      "source": [
        "#Example of indentation blocks:\n",
        "\n",
        "age=int(input(\"enter a age:\"))\n",
        "if age > 18:\n",
        "  print(\"u can drive\")\n",
        "else:\n",
        "  print(\"u can't\")\n"
      ],
      "metadata": {
        "colab": {
          "base_uri": "https://localhost:8080/"
        },
        "id": "IbiME-swmyfJ",
        "outputId": "73acfd33-8bde-4b67-8ed8-281c6fd350be"
      },
      "execution_count": null,
      "outputs": [
        {
          "output_type": "stream",
          "name": "stdout",
          "text": [
            "enter a age:56\n",
            "u can drive\n"
          ]
        }
      ]
    },
    {
      "cell_type": "markdown",
      "source": [
        "######Q7.\n",
        "######Ans:\n",
        "###### Single line comment is given by Hashtag(#)."
      ],
      "metadata": {
        "id": "AuKUkJ9Onc8T"
      }
    },
    {
      "cell_type": "code",
      "source": [
        "#Ex:\n",
        "# This is car\n",
        "# we study hard"
      ],
      "metadata": {
        "id": "EYzbwHtXnuTj"
      },
      "execution_count": null,
      "outputs": []
    },
    {
      "cell_type": "markdown",
      "source": [
        "######Q8.\n",
        "######Ans:\n",
        "###### In windows operating system, we can use the command prompt or windows powershell. Enter the following command on shell: Python--version"
      ],
      "metadata": {
        "id": "nSY7A-0qn6Sn"
      }
    },
    {
      "cell_type": "markdown",
      "source": [
        "#####Q9.\n",
        "#####Ans:\n",
        "##### Python supports the creation of anonymous functions at runtime, using a construct called lambda."
      ],
      "metadata": {
        "id": "1BASLl1XojR1"
      }
    },
    {
      "cell_type": "markdown",
      "source": [
        "#####Q10.\n",
        "#####Ans:\n",
        "##### PIP stand for \"preferred installer program\" or pip install packages.It is a command line utility that install,reinstalls,or uninstalls PyPi packages with one simple command : pip"
      ],
      "metadata": {
        "id": "byLv6QRPpExB"
      }
    },
    {
      "cell_type": "markdown",
      "source": [
        "#####Q11.\n",
        "#####Ans:"
      ],
      "metadata": {
        "id": "rJT2GZLUqKaQ"
      }
    },
    {
      "cell_type": "code",
      "source": [
        "\"\"\"\n",
        "1. dict() -  Returns a dictionary.\n",
        "2. filter()  -  Use a filter function to exclude items in an iterable object.\n",
        "3. float() - Returns a floating point number.\n",
        "4. id()  -  Returns the id of an object.\n",
        "5. int() -  Returns an integer number.\n",
        "6. input() - Allowing user input.\n",
        "7. len() - Returns the length of an object.\n",
        "8. list() - Returns a list.\n",
        "9. max() - Returns the largest item in iterable.\n",
        "10. min() - Returns the smallest item in iterable.\n",
        "\"\"\""
      ],
      "metadata": {
        "colab": {
          "base_uri": "https://localhost:8080/",
          "height": 70
        },
        "id": "huTNm6-LqVWS",
        "outputId": "672fb982-7f1f-40db-b240-7e92f9dfa129"
      },
      "execution_count": null,
      "outputs": [
        {
          "output_type": "execute_result",
          "data": {
            "text/plain": [
              "'\\n1. dict() -  Returns a dictionary.\\n2. filter()  -  Use a filter function to exclude items in an iterable object.\\n3. float() - Returns a floating point number.\\n4. id()  -  Returns the id of an object.\\n5. int() -  Returns an integer number.\\n6. input() - Allowing user input.\\n7. len() - Returns the length of an object.\\n8. list() - Returns a list.\\n9. max() - Returns the largest item in iterable.\\n10. min() - Returns the smallest item in iterable.\\n'"
            ],
            "application/vnd.google.colaboratory.intrinsic+json": {
              "type": "string"
            }
          },
          "metadata": {},
          "execution_count": 3
        }
      ]
    },
    {
      "cell_type": "markdown",
      "source": [
        "######Q12.\n",
        "######Ans:\n",
        "###### 79 Characters is the maximum possible length of an identifier in python."
      ],
      "metadata": {
        "id": "E3npJRtOsB3L"
      }
    },
    {
      "cell_type": "markdown",
      "source": [
        "#####Q13.\n",
        "#####Ans:\n",
        "##### Benfits of python:\n",
        "##### (1) Earning Potential\n",
        "##### (2) Ease of Comprehension\n",
        "##### (3) Flexibility\n",
        "##### (4) Used in Many Industries\n",
        "##### (5) Help a Startup\n",
        "##### (6) Python Security"
      ],
      "metadata": {
        "id": "NqFbrRY0skrO"
      }
    },
    {
      "cell_type": "markdown",
      "source": [
        "####Q14.\n",
        "####Ans:\n",
        "#### In python memory management is totally automatic. (1) python memory mangar (2) python grabage collector.\n",
        "#### Memory allocation in python: (1) Stack Memory  (2) Heap Memory\n",
        "#### The methods calls and the references are stored in stack memory and all the vallues objects are stored ina private heap.\n",
        "#### Ex:  a=10  ,  a variable get memory allocated on stack. For 10 integer memory allocated on heap.\n",
        "#### Garbage Collection : It is a process in which the interpreter frees up the memory when not in use to make it available for other objects."
      ],
      "metadata": {
        "id": "7nfgK04QKVQd"
      }
    },
    {
      "cell_type": "markdown",
      "source": [
        "####Q15.\n",
        "####Ans:\n",
        "#### First download Python interpret from chrome python.org on windows.\n",
        "#### Add python to windows path:\n",
        "#### (1) First we need to locate where the python is being installed.\n",
        "#### (2) Press windows key and ssearch for python click on open file loaction and you will be in a location where python is installed,copy the location.\n",
        "#### (3) Now we have to add the copied path as a variable so that windows can recognize.\n",
        "#### (4) Search for environmental variables,click on that now click on environmental variables button there will be two categories namely User and System, we have to add it in users,click on new button in user section.\n",
        "#### (5) Now,add a variable name and path which we copied previously and click ok.\n",
        "#### (6) Now,after adding the python to the environment variable let's check if the python is running or not. To do this open CMD and type python. if environment variable is set then the python command will run otherwise not."
      ],
      "metadata": {
        "id": "VWA8C7ksOBRU"
      }
    },
    {
      "cell_type": "markdown",
      "source": [
        "####Q16.\n",
        "####Ans:\n",
        "#### Yes,indentation is required in python. Indentation refers to the spaces at the beginning of a code line. Python uses indentation to indicate a block of code."
      ],
      "metadata": {
        "id": "_ee_iGOnSpCV"
      }
    },
    {
      "cell_type": "code",
      "source": [],
      "metadata": {
        "id": "o5vWtZL8TVSV"
      },
      "execution_count": null,
      "outputs": []
    }
  ]
}